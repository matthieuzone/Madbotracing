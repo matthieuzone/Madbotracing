{
 "cells": [
  {
   "cell_type": "code",
   "execution_count": 15,
   "metadata": {},
   "outputs": [],
   "source": [
    "import tensorflow as tf\n",
    "from keras import layers\n",
    "import numpy as np"
   ]
  },
  {
   "cell_type": "code",
   "execution_count": 16,
   "metadata": {},
   "outputs": [],
   "source": [
    "inputs = layers.Input(shape=(8,))\n",
    "#hidden = hl(inputs)\n",
    "outputs = layers.Dense(3, activation=\"tanh\")(inputs)\n",
    "model1 = tf.keras.Model(inputs, outputs)\n",
    "#hl.set_weights([np.eye(num_states), np.zeros(num_states,)])"
   ]
  },
  {
   "cell_type": "code",
   "execution_count": 32,
   "metadata": {},
   "outputs": [],
   "source": [
    "inputs = layers.Input(shape=(8,))\n",
    "h = layers.Dense(5, activation=\"relu\", kernel_initializer=tf.keras.initializers.Zeros())(inputs)\n",
    "con = layers.Concatenate()([inputs, h])\n",
    "lay = layers.Dense(3, activation=\"tanh\")\n",
    "outputs = lay(con)        \n",
    "model2 = tf.keras.Model(inputs, outputs)"
   ]
  },
  {
   "cell_type": "code",
   "execution_count": 19,
   "metadata": {},
   "outputs": [
    {
     "data": {
      "text/plain": [
       "[array([[-0.34780475,  0.04206604, -0.1699825 ],\n",
       "        [ 0.54741865,  0.6049331 ,  0.5859371 ],\n",
       "        [ 0.23449904, -0.25938004,  0.61023086],\n",
       "        [-0.6897001 , -0.14754856, -0.31623802],\n",
       "        [ 0.4345892 , -0.3627083 , -0.28956327],\n",
       "        [-0.07949144,  0.3933298 , -0.60756075],\n",
       "        [-0.2946713 , -0.58233213, -0.15249085],\n",
       "        [-0.10806823,  0.12814587,  0.30159825]], dtype=float32),\n",
       " array([0., 0., 0.], dtype=float32)]"
      ]
     },
     "execution_count": 19,
     "metadata": {},
     "output_type": "execute_result"
    }
   ],
   "source": [
    "model1.get_weights()"
   ]
  },
  {
   "cell_type": "code",
   "execution_count": 21,
   "metadata": {},
   "outputs": [
    {
     "data": {
      "text/plain": [
       "[array([[0., 0., 0., 0., 0.],\n",
       "        [0., 0., 0., 0., 0.],\n",
       "        [0., 0., 0., 0., 0.],\n",
       "        [0., 0., 0., 0., 0.],\n",
       "        [0., 0., 0., 0., 0.],\n",
       "        [0., 0., 0., 0., 0.],\n",
       "        [0., 0., 0., 0., 0.],\n",
       "        [0., 0., 0., 0., 0.]], dtype=float32),\n",
       " array([0., 0., 0., 0., 0.], dtype=float32),\n",
       " array([[-0.2349579 ,  0.37419713,  0.06228882],\n",
       "        [-0.01714957, -0.26259705,  0.24705642],\n",
       "        [-0.14790294,  0.2511075 , -0.18654528],\n",
       "        [ 0.37092435,  0.60641366, -0.12762251],\n",
       "        [-0.56731117, -0.18455514, -0.53774613],\n",
       "        [-0.03094184, -0.5824338 ,  0.4426853 ],\n",
       "        [-0.47767708, -0.14015335,  0.59356624],\n",
       "        [ 0.39624995, -0.32526127, -0.00212872],\n",
       "        [ 0.27206796,  0.05536884,  0.12278783],\n",
       "        [-0.49297214, -0.08867455,  0.04409873],\n",
       "        [-0.16277808, -0.56035084, -0.3336414 ],\n",
       "        [ 0.05574012, -0.06011879, -0.27035278],\n",
       "        [-0.4678582 , -0.48724598, -0.16313505]], dtype=float32),\n",
       " array([0., 0., 0.], dtype=float32)]"
      ]
     },
     "execution_count": 21,
     "metadata": {},
     "output_type": "execute_result"
    }
   ],
   "source": [
    "model2.get_weights()"
   ]
  },
  {
   "cell_type": "code",
   "execution_count": 24,
   "metadata": {},
   "outputs": [],
   "source": [
    "a =  model1.get_weights()[0]"
   ]
  },
  {
   "cell_type": "code",
   "execution_count": 30,
   "metadata": {},
   "outputs": [],
   "source": [
    "b = np.concatenate([a, np.zeros((5,3))], axis = 0)"
   ]
  },
  {
   "cell_type": "code",
   "execution_count": 31,
   "metadata": {},
   "outputs": [
    {
     "data": {
      "text/plain": [
       "array([[-0.34780475,  0.04206604, -0.16998249],\n",
       "       [ 0.54741865,  0.60493308,  0.58593708],\n",
       "       [ 0.23449904, -0.25938004,  0.61023086],\n",
       "       [-0.68970013, -0.14754856, -0.31623802],\n",
       "       [ 0.43458921, -0.3627083 , -0.28956327],\n",
       "       [-0.07949144,  0.3933298 , -0.60756075],\n",
       "       [-0.2946713 , -0.58233213, -0.15249085],\n",
       "       [-0.10806823,  0.12814587,  0.30159825],\n",
       "       [ 0.        ,  0.        ,  0.        ],\n",
       "       [ 0.        ,  0.        ,  0.        ],\n",
       "       [ 0.        ,  0.        ,  0.        ],\n",
       "       [ 0.        ,  0.        ,  0.        ],\n",
       "       [ 0.        ,  0.        ,  0.        ]])"
      ]
     },
     "execution_count": 31,
     "metadata": {},
     "output_type": "execute_result"
    }
   ],
   "source": [
    "b"
   ]
  },
  {
   "cell_type": "code",
   "execution_count": 35,
   "metadata": {},
   "outputs": [],
   "source": [
    "lay.set_weights([b, model1.get_weights()[1]])"
   ]
  },
  {
   "cell_type": "code",
   "execution_count": 36,
   "metadata": {},
   "outputs": [
    {
     "data": {
      "text/plain": [
       "[array([[0., 0., 0., 0., 0.],\n",
       "        [0., 0., 0., 0., 0.],\n",
       "        [0., 0., 0., 0., 0.],\n",
       "        [0., 0., 0., 0., 0.],\n",
       "        [0., 0., 0., 0., 0.],\n",
       "        [0., 0., 0., 0., 0.],\n",
       "        [0., 0., 0., 0., 0.],\n",
       "        [0., 0., 0., 0., 0.]], dtype=float32),\n",
       " array([0., 0., 0., 0., 0.], dtype=float32),\n",
       " array([[-0.34780475,  0.04206604, -0.1699825 ],\n",
       "        [ 0.54741865,  0.6049331 ,  0.5859371 ],\n",
       "        [ 0.23449904, -0.25938004,  0.61023086],\n",
       "        [-0.6897001 , -0.14754856, -0.31623802],\n",
       "        [ 0.4345892 , -0.3627083 , -0.28956327],\n",
       "        [-0.07949144,  0.3933298 , -0.60756075],\n",
       "        [-0.2946713 , -0.58233213, -0.15249085],\n",
       "        [-0.10806823,  0.12814587,  0.30159825],\n",
       "        [ 0.        ,  0.        ,  0.        ],\n",
       "        [ 0.        ,  0.        ,  0.        ],\n",
       "        [ 0.        ,  0.        ,  0.        ],\n",
       "        [ 0.        ,  0.        ,  0.        ],\n",
       "        [ 0.        ,  0.        ,  0.        ]], dtype=float32),\n",
       " array([0., 0., 0.], dtype=float32)]"
      ]
     },
     "execution_count": 36,
     "metadata": {},
     "output_type": "execute_result"
    }
   ],
   "source": [
    "model2.get_weights()"
   ]
  },
  {
   "cell_type": "code",
   "execution_count": null,
   "metadata": {},
   "outputs": [],
   "source": []
  }
 ],
 "metadata": {
  "kernelspec": {
   "display_name": "Python 3",
   "language": "python",
   "name": "python3"
  },
  "language_info": {
   "codemirror_mode": {
    "name": "ipython",
    "version": 3
   },
   "file_extension": ".py",
   "mimetype": "text/x-python",
   "name": "python",
   "nbconvert_exporter": "python",
   "pygments_lexer": "ipython3",
   "version": "3.11.7"
  }
 },
 "nbformat": 4,
 "nbformat_minor": 2
}
