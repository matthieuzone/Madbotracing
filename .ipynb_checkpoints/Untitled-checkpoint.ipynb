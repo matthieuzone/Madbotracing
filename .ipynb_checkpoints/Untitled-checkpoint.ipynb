{
 "cells": [
  {
   "cell_type": "code",
   "execution_count": 1,
   "id": "59c881d6-93b5-4c83-b2cd-40032cd44b71",
   "metadata": {},
   "outputs": [],
   "source": [
    "import engine\n",
    "import gui\n",
    "import numpy as np"
   ]
  },
  {
   "cell_type": "code",
   "execution_count": 2,
   "id": "75cfc0ca-7c94-4004-b3ac-df34f7321069",
   "metadata": {},
   "outputs": [],
   "source": [
    "pa = np.zeros((2,))\n",
    "b = False"
   ]
  },
  {
   "cell_type": "code",
   "execution_count": 7,
   "id": "812cc19d-bef4-41a9-8622-3612d4ae5c62",
   "metadata": {},
   "outputs": [],
   "source": [
    "def strat(self):\n",
    "    global pa\n",
    "    global b\n",
    "    goal = self.game.checkpoints[self.nextchx] - self.pos\n",
    "    next_checkpoint_dist = np.linalg.norm(self.game.checkpoints[self.nextchx] - self.pos)\n",
    "    next_checkpoint_angle = engine.dir(self.game.checkpoints[self.nextchx] - self.pos)\n",
    "\n",
    "    v = self.pos - pa\n",
    "    corr = v - (np.dot(v, goal) / np.dot(goal,goal))*goal\n",
    "    aim = np.rint(v - 2*corr + self.pos).astype(int)    \n",
    "    \n",
    "    if abs(next_checkpoint_angle) > 85:\n",
    "        return self.game.checkpoints[self.nextchx], 0\n",
    "\n",
    "    elif abs(next_checkpoint_angle) > 40 and next_checkpoint_dist < 1000:\n",
    "        return self.game.checkpoints[self.nextchx], 0\n",
    "\n",
    "    \n",
    "    elif next_checkpoint_dist <= 1200 and np.dot(v,goal) > np.linalg.norm(goal)*next_checkpoint_dist/4:\n",
    "        return self.game.checkpoints[self.nextchx], 0\n",
    "\n",
    "    \n",
    "    elif abs(next_checkpoint_angle) < 5 and next_checkpoint_dist > 4000 and not b:\n",
    "        b = True\n",
    "        return self.game.checkpoints[self.nextchx], \"BOOST\"\n",
    "\n",
    "    elif np.dot(v,goal) < 0.5*np.linalg.norm(v)*np.linalg.norm(goal):\n",
    "        return self.game.checkpoints[self.nextchx], 100\n",
    "    else:\n",
    "        return aim, 100\n",
    "    pa = self.pos"
   ]
  },
  {
   "cell_type": "code",
   "execution_count": 8,
   "id": "606748ef-383a-4c5f-84f0-0f03804dda2a",
   "metadata": {},
   "outputs": [],
   "source": [
    "game = engine.Game(2)"
   ]
  },
  {
   "cell_type": "code",
   "execution_count": 9,
   "id": "1e8ef839-a1d1-4f24-9c9e-ca1932ebc4f7",
   "metadata": {},
   "outputs": [
    {
     "name": "stdout",
     "output_type": "stream",
     "text": [
      "collide 796.651411670178\n",
      "collide 795.3252054277802\n",
      "collide 784.1018933694969\n",
      "collide 799.3566234840106\n",
      "collide 784.238298828719\n",
      "collide 799.35662348401\n",
      "collide 784.2382988287181\n",
      "collide 799.3566234840096\n",
      "collide 784.2382988287172\n",
      "collide 799.3566234840085\n",
      "collide 784.2382988287168\n",
      "collide 799.3566234840083\n",
      "collide 784.2382988287163\n",
      "collide 799.2886563987615\n",
      "collide 783.3183390062652\n",
      "collide 799.2886563987616\n",
      "collide 783.318339006265\n",
      "collide 799.288656398762\n",
      "collide 783.3183390062652\n",
      "collide 799.2886563987622\n",
      "collide 783.3183390062661\n",
      "collide 799.288656398762\n",
      "collide 783.3183390062649\n",
      "collide 794.0174991911025\n",
      "collide 781.0513616189581\n",
      "collide 794.017499191103\n",
      "collide 781.051361618958\n",
      "collide 794.0174991911031\n",
      "collide 781.0513616189575\n",
      "collide 794.0174991911027\n",
      "collide 781.0513616189581\n",
      "collide 794.0174991911031\n",
      "collide 781.0513616189585\n",
      "collide 793.8637963226865\n",
      "collide 780.1789296137696\n",
      "collide 793.8637963226865\n",
      "collide 780.1789296137699\n",
      "collide 793.8637963226865\n",
      "collide 780.17892961377\n",
      "collide 793.8637963226865\n",
      "collide 780.1789296137699\n",
      "collide 793.8637963226863\n",
      "collide 780.1789296137695\n",
      "collide 786.442478375425\n",
      "collide 769.2966952632198\n",
      "collide 786.4424783754249\n",
      "collide 769.2966952632199\n",
      "collide 786.4424783754249\n",
      "collide 769.2966952632202\n",
      "collide 786.4424783754249\n",
      "collide 769.2966952632203\n",
      "collide 799.4899018222635\n",
      "collide 769.9328546864613\n",
      "collide 798.8315841669925\n",
      "collide 770.6134614556318\n",
      "collide 798.1285977710274\n",
      "collide 771.3473192540882\n",
      "collide 788.1001120661213\n",
      "collide 771.347319254089\n",
      "collide 799.5870374468606\n",
      "collide 772.2349263997298\n",
      "collide 798.6675582562553\n",
      "collide 773.1860302530682\n",
      "collide 797.6851614585424\n",
      "collide 774.1992209256898\n",
      "collide 798.5514632031396\n",
      "collide 775.2721644394751\n",
      "collide 797.7010847599639\n",
      "collide 776.4070740489698\n",
      "collide 798.5682940790858\n",
      "collide 777.6011178077018\n",
      "collide 797.7188591159234\n",
      "collide 778.8561325128999\n",
      "collide 798.5869654577906\n",
      "collide 773.4251522107336\n",
      "collide 797.3904955690227\n",
      "collide 774.6144643202247\n",
      "collide 796.1671147470005\n",
      "collide 775.8708722128926\n",
      "collide 794.8788595564716\n",
      "collide 777.1895518074024\n",
      "collide 794.7481874266252\n",
      "collide 778.564522214501\n",
      "collide 794.899501201227\n",
      "collide 779.9932783591894\n",
      "collide 794.7696834515494\n",
      "collide 781.4737758564044\n",
      "collide 794.9218096486902\n",
      "collide 783.0023653404608\n",
      "collide 794.7927693347125\n",
      "collide 784.5758485671746\n",
      "collide 794.9456120512848\n",
      "collide 786.1892811574004\n",
      "collide 794.817233952364\n",
      "collide 788.1480429732842\n",
      "collide 782.0665744442028\n",
      "collide 789.8166885022844\n",
      "collide 780.4204911589358\n",
      "collide 791.4361223275006\n",
      "collide 778.8316624888434\n",
      "collide 792.9906621339426\n",
      "collide 777.3149344804305\n",
      "collide 794.466373151267\n",
      "collide 775.8832683798161\n",
      "collide 795.8513093030691\n",
      "collide 774.5475663672593\n",
      "collide 797.1356209089982\n",
      "collide 773.3166288172732\n",
      "collide 798.3115357782718\n",
      "collide 772.1972305646576\n",
      "collide 799.3732310671055\n",
      "collide 771.1942948536096\n",
      "collide 791.5154882015181\n",
      "collide 799.6604507216326\n",
      "collide 795.4952743921468\n",
      "collide 798.8332944833583\n",
      "collide 790.4461791741144\n",
      "collide 797.831772026423\n",
      "collide 788.3518014352185\n",
      "collide 794.9266598211794\n",
      "collide 789.8095170641799\n",
      "collide 799.7927980999792\n",
      "collide 784.6230927610163\n",
      "collide 783.3483486180095\n"
     ]
    }
   ],
   "source": [
    "game.pods[0].strategy = strat\n",
    "game.pods[0].pos = np.array([1000.,1000.])\n",
    "game.play()"
   ]
  },
  {
   "cell_type": "code",
   "execution_count": 10,
   "id": "04848546-453d-411f-984c-bfd7b99e310f",
   "metadata": {},
   "outputs": [],
   "source": [
    "gui.show(game.history, game.checkpoints)"
   ]
  },
  {
   "cell_type": "code",
   "execution_count": 34,
   "id": "619442d8-9109-4791-8ea0-2155fc69030e",
   "metadata": {},
   "outputs": [
    {
     "data": {
      "text/plain": [
       "14"
      ]
     },
     "execution_count": 34,
     "metadata": {},
     "output_type": "execute_result"
    }
   ],
   "source": [
    "game.pods[0].id"
   ]
  },
  {
   "cell_type": "code",
   "execution_count": null,
   "id": "d6d9bfaf-df6d-4c30-9cb4-39f900caeb8b",
   "metadata": {},
   "outputs": [],
   "source": []
  }
 ],
 "metadata": {
  "kernelspec": {
   "display_name": "Python 3 (ipykernel)",
   "language": "python",
   "name": "python3"
  },
  "language_info": {
   "codemirror_mode": {
    "name": "ipython",
    "version": 3
   },
   "file_extension": ".py",
   "mimetype": "text/x-python",
   "name": "python",
   "nbconvert_exporter": "python",
   "pygments_lexer": "ipython3",
   "version": "3.8.10"
  }
 },
 "nbformat": 4,
 "nbformat_minor": 5
}
